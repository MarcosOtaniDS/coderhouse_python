{
 "cells": [
  {
   "cell_type": "code",
   "execution_count": 6,
   "metadata": {},
   "outputs": [],
   "source": [
    "from plyer import notification\n",
    "from datetime import datetime\n",
    "\n",
    "def alertaFalhaCarregar(base, etapa, nivel):\n",
    "    \n",
    "    if nivel == 1:\n",
    "        titulo = \"Alerta Baixo\"\n",
    "    elif nivel == 2:\n",
    "        titulo = \"Alerta Médio\"\n",
    "    elif nivel == 3:\n",
    "        titulo = \"Alerta Alto\"\n",
    "    else:\n",
    "        titulo = \"Alerta Desconhecido\"\n",
    "\n",
    "  \n",
    "    msg = f'Falha no carregamento da base {base} na etapa {etapa}\\nData: {datetime.now()}'\n",
    "\n",
    "  \n",
    "    notification.notify(\n",
    "        title=titulo,\n",
    "        message=msg,\n",
    "        app_name=\"Alerta de Falha de Carregamento\"\n",
    "    )\n",
    "\n",
    "\n",
    "base = \"MinhaBase\"\n",
    "etapa = \"Etapa1\"\n",
    "nivel = 3\n",
    "alertaFalhaCarregar(base, etapa, nivel)"
   ]
  }
 ],
 "metadata": {
  "kernelspec": {
   "display_name": "Python 3",
   "language": "python",
   "name": "python3"
  },
  "language_info": {
   "codemirror_mode": {
    "name": "ipython",
    "version": 3
   },
   "file_extension": ".py",
   "mimetype": "text/x-python",
   "name": "python",
   "nbconvert_exporter": "python",
   "pygments_lexer": "ipython3",
   "version": "3.10.8"
  }
 },
 "nbformat": 4,
 "nbformat_minor": 2
}
