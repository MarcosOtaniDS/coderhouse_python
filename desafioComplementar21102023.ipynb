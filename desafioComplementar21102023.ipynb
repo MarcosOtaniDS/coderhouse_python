{
 "cells": [
  {
   "cell_type": "code",
   "execution_count": 1,
   "metadata": {},
   "outputs": [
    {
     "name": "stdout",
     "output_type": "stream",
     "text": [
      "Seu IMC é de: 26.285714285714285\n"
     ]
    }
   ],
   "source": [
    "'''Escreva um programa em Python que calcule o IMC (Índice de Massa Corporal) de uma pessoa. O programa deve solicitar ao usuário o peso em kg e a altura em metros, e em seguida, calcular e imprimir o valor do IMC.'''\n",
    "\n",
    "peso = float(input(\"Insira o seu peso:\"))\n",
    "altura = float(input(\"Insira a sua altura: \"))\n",
    "\n",
    "imc = peso/ (altura**2)\n",
    "\n",
    "print(f\"Seu IMC é de: {imc}\")"
   ]
  },
  {
   "cell_type": "code",
   "execution_count": 2,
   "metadata": {},
   "outputs": [
    {
     "name": "stdout",
     "output_type": "stream",
     "text": [
      "A ordem da sua lista é: [5.0, 24.0, 13.0, 41.0, 47.0]\n"
     ]
    }
   ],
   "source": [
    "\n",
    "\n",
    "'''Faça um programa que crie uma lista vazia e permita que o usuário insira 5 números inteiros na lista.'''\n",
    "\n",
    "lista = []\n",
    "lista.append(int(input(\"digite o primeiro numero:\")))\n",
    "lista.append(int(input(\"digite o segundo numero:\")))\n",
    "lista.append(int(input(\"digite o terceiro numero:\")))\n",
    "lista.append(int(input(\"digite o quarto numro:\")))\n",
    "lista.append(int(input(\"digite o quinto numero:\")))\n",
    "\n",
    "print(\"A ordem da sua lista é:\", lista)\n",
    "\n",
    "\n",
    "\n"
   ]
  },
  {
   "cell_type": "code",
   "execution_count": 1,
   "metadata": {},
   "outputs": [
    {
     "name": "stdout",
     "output_type": "stream",
     "text": [
      "Collecting plyer"
     ]
    },
    {
     "name": "stderr",
     "output_type": "stream",
     "text": [
      "\n",
      "[notice] A new release of pip available: 22.2.2 -> 23.3.1\n",
      "[notice] To update, run: C:\\Python310\\python.exe -m pip install --upgrade pip\n"
     ]
    },
    {
     "name": "stdout",
     "output_type": "stream",
     "text": [
      "\n",
      "  Downloading plyer-2.1.0-py2.py3-none-any.whl (142 kB)\n",
      "     -------------------------------------- 142.3/142.3 kB 4.3 MB/s eta 0:00:00\n",
      "Installing collected packages: plyer\n",
      "Successfully installed plyer-2.1.0\n"
     ]
    }
   ],
   "source": [
    "!pip install plyer\n"
   ]
  },
  {
   "cell_type": "code",
   "execution_count": 7,
   "metadata": {},
   "outputs": [
    {
     "name": "stdout",
     "output_type": "stream",
     "text": [
      "Lista de nomes: ['Ana', 'Bruno', 'Cesar', 'Dani']\n"
     ]
    }
   ],
   "source": [
    "'''Faça um programa que peça ao usuário para digitar uma lista de nomes separados por vírgula e transforme essa lista em uma lista de strings.'''\n",
    "\n",
    "\n",
    "nomes = input(\"Digite uma lista de nomes separados por vírgula: \")\n",
    "\n",
    "lista_nomes = nomes.split(\",\")\n",
    "\n",
    "print(\"Lista de nomes:\", lista_nomes)"
   ]
  },
  {
   "cell_type": "code",
   "execution_count": 1,
   "metadata": {},
   "outputs": [
    {
     "ename": "ModuleNotFoundError",
     "evalue": "No module named 'plyer'",
     "output_type": "error",
     "traceback": [
      "\u001b[1;31m---------------------------------------------------------------------------\u001b[0m",
      "\u001b[1;31mModuleNotFoundError\u001b[0m                       Traceback (most recent call last)",
      "\u001b[1;32me:\\coderhouse\\desafioComplementar21102023.ipynb Célula 5\u001b[0m line \u001b[0;36m1\n\u001b[1;32m----> <a href='vscode-notebook-cell:/e%3A/coderhouse/desafioComplementar21102023.ipynb#W5sZmlsZQ%3D%3D?line=0'>1</a>\u001b[0m \u001b[39mfrom\u001b[39;00m \u001b[39mplyer\u001b[39;00m \u001b[39mimport\u001b[39;00m notification \n\u001b[0;32m      <a href='vscode-notebook-cell:/e%3A/coderhouse/desafioComplementar21102023.ipynb#W5sZmlsZQ%3D%3D?line=1'>2</a>\u001b[0m notification\u001b[39m.\u001b[39mnotify(\n\u001b[0;32m      <a href='vscode-notebook-cell:/e%3A/coderhouse/desafioComplementar21102023.ipynb#W5sZmlsZQ%3D%3D?line=2'>3</a>\u001b[0m      title\u001b[39m=\u001b[39m\u001b[39m'\u001b[39m\u001b[39mTítulo da notificação\u001b[39m\u001b[39m'\u001b[39m,\n\u001b[0;32m      <a href='vscode-notebook-cell:/e%3A/coderhouse/desafioComplementar21102023.ipynb#W5sZmlsZQ%3D%3D?line=3'>4</a>\u001b[0m      message\u001b[39m=\u001b[39m\u001b[39m'\u001b[39m\u001b[39mMensagem da notificação\u001b[39m\u001b[39m'\u001b[39m,\n\u001b[0;32m      <a href='vscode-notebook-cell:/e%3A/coderhouse/desafioComplementar21102023.ipynb#W5sZmlsZQ%3D%3D?line=4'>5</a>\u001b[0m      app_name\u001b[39m=\u001b[39m\u001b[39m'\u001b[39m\u001b[39mNome do aplicativo\u001b[39m\u001b[39m'\u001b[39m,\n\u001b[0;32m      <a href='vscode-notebook-cell:/e%3A/coderhouse/desafioComplementar21102023.ipynb#W5sZmlsZQ%3D%3D?line=5'>6</a>\u001b[0m      timeout\u001b[39m=\u001b[39m\u001b[39m10\u001b[39m )\n",
      "\u001b[1;31mModuleNotFoundError\u001b[0m: No module named 'plyer'"
     ]
    }
   ],
   "source": [
    "from plyer import notification \n",
    "notification.notify(\n",
    "     title='Título da notificação',\n",
    "     message='Mensagem da notificação',\n",
    "     app_name='Nome do aplicativo',\n",
    "     timeout=10 )\n"
   ]
  }
 ],
 "metadata": {
  "kernelspec": {
   "display_name": "Python 3",
   "language": "python",
   "name": "python3"
  },
  "language_info": {
   "codemirror_mode": {
    "name": "ipython",
    "version": 3
   },
   "file_extension": ".py",
   "mimetype": "text/x-python",
   "name": "python",
   "nbconvert_exporter": "python",
   "pygments_lexer": "ipython3",
   "version": "3.12.0"
  }
 },
 "nbformat": 4,
 "nbformat_minor": 2
}
