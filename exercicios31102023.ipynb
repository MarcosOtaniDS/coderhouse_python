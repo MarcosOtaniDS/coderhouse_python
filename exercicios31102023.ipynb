{
 "cells": [
  {
   "cell_type": "code",
   "execution_count": null,
   "metadata": {},
   "outputs": [],
   "source": [
    "'''\n",
    "Crie uma classe Retangulo que tenha os atributos base e altura e os métodos area() e perimetro(). Crie um objeto e teste os métodos. \n",
    "\n",
    "Crie um arquivo chamado geometria.py e salve a classe Retangulo dentro desse arquivo. Importe a classe de algum outro arquivo e realize testes. \n",
    "\n",
    "Crie uma classe Conta que tenha os atributos saldo e titular e os métodos depositar() e sacar(). Em seguida, instancie essa classe com um saldo inicial e realize algumas operações de depósito e saque para verificar se o saldo está sendo atualizado corretamente.\n",
    "'''"
   ]
  },
  {
   "cell_type": "code",
   "execution_count": 1,
   "metadata": {},
   "outputs": [
    {
     "name": "stdout",
     "output_type": "stream",
     "text": [
      "Retângulo 1 - Área: 15, Perímetro: 16\n",
      "Retângulo 2 - Área: 28, Perímetro: 22\n"
     ]
    }
   ],
   "source": [
    "class Retangulo:\n",
    "    def __init__(self, base, altura):\n",
    "        self.base = base\n",
    "        self.altura = altura\n",
    "\n",
    "    def area(self):\n",
    "        return self.base * self.altura\n",
    "\n",
    "    def perimetro(self):\n",
    "        return 2 * (self.base + self.altura)\n",
    "\n",
    "# Agora, vamos criar um objeto da classe Retangulo e testar os métodos:\n",
    "\n",
    "retangulo1 = Retangulo(5, 3)  # Criar um retângulo com base 5 e altura 3\n",
    "\n",
    "# Calcular a área e o perímetro do retângulo\n",
    "area1 = retangulo1.area()\n",
    "perimetro1 = retangulo1.perimetro()\n",
    "\n",
    "print(f\"Retângulo 1 - Área: {area1}, Perímetro: {perimetro1}\")\n",
    "\n",
    "retangulo2 = Retangulo(7, 4)  # Criar outro retângulo com base 7 e altura 4\n",
    "\n",
    "# Calcular a área e o perímetro do segundo retângulo\n",
    "area2 = retangulo2.area()\n",
    "perimetro2 = retangulo2.perimetro()\n",
    "\n",
    "print(f\"Retângulo 2 - Área: {area2}, Perímetro: {perimetro2}\")"
   ]
  }
 ],
 "metadata": {
  "kernelspec": {
   "display_name": "Python 3",
   "language": "python",
   "name": "python3"
  },
  "language_info": {
   "codemirror_mode": {
    "name": "ipython",
    "version": 3
   },
   "file_extension": ".py",
   "mimetype": "text/x-python",
   "name": "python",
   "nbconvert_exporter": "python",
   "pygments_lexer": "ipython3",
   "version": "3.10.8"
  }
 },
 "nbformat": 4,
 "nbformat_minor": 2
}
