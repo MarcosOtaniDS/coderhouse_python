{
 "cells": [
  {
   "cell_type": "code",
   "execution_count": null,
   "metadata": {},
   "outputs": [],
   "source": [
    "import pandas as pd\n",
    "import requests\n",
    "\n",
    "url_pais = 'https://apiv2.allsportsapi.com/football/?met=Countries&APIkey=82fb1cf25a7801dd710ec3a11aebaaac53c6b054b0a1389a923727f1d82c902d'\n",
    "url_ligas = 'https://apiv2.allsportsapi.com/football/?met=Leagues&APIkey=82fb1cf25a7801dd710ec3a11aebaaac53c6b054b0a1389a923727f1d82c902d'\n",
    "url_artilheiros = 'https://apiv2.allsportsapi.com/football/?&met=Topscorers&leagueId=207&APIkey=82fb1cf25a7801dd710ec3a11aebaaac53c6b054b0a1389a923727f1d82c902d'\n",
    "\n",
    "headers = {\n",
    "    'X-Auth-Token': '528baf18643e4a3da10efdbb55958cfa'  # Substitua 'YOUR_API_TOKEN' pelo seu token de API real\n",
    "}\n",
    "\n",
    "# Obter dados de países\n",
    "response_pais = requests.get(url_pais, headers=headers)\n",
    "if response_pais.status_code == 200:\n",
    "    data_pais = response_pais.json()\n",
    "    pais_full = pd.DataFrame(data_pais['result'])\n",
    "    # Ajustar nomes de colunas e filtrar colunas desnecessárias\n",
    "    pais_full = pais_full[['country_name', 'country_id', 'country_logo']]\n",
    "    pais_full.columns = ['Nome do País', 'ID do País', 'Logo do País']\n",
    "    # Tratar tipos de variáveis, se necessário\n",
    "    # Exemplo: pais_full['ID do País'] = pais_full['ID do País'].astype(int)\n",
    "\n",
    "# Obter dados de ligas\n",
    "response_ligas = requests.get(url_ligas, headers=headers)\n",
    "if response_ligas.status_code == 200:\n",
    "    data_ligas = response_ligas.json()\n",
    "    ligas_full = pd.DataFrame(data_ligas['result'])\n",
    "    # Ajustar nomes de colunas e filtrar colunas desnecessárias\n",
    "    ligas_full = ligas_full[['league_name', 'league_id', 'country_id']]\n",
    "    ligas_full.columns = ['Nome da Liga', 'ID da Liga', 'ID do País da Liga']\n",
    "    # Tratar tipos de variáveis, se necessário\n",
    "    # Exemplo: ligas_full['ID da Liga'] = ligas_full['ID da Liga'].astype(int)\n",
    "\n",
    "# Obter dados de artilheiros\n",
    "response_artilheiros = requests.get(url_artilheiros, headers=headers)\n",
    "if response_artilheiros.status_code == 200:\n",
    "    data_artilheiros = response_artilheiros.json()\n",
    "    artilheiros_full = pd.DataFrame(data_artilheiros['result'])\n",
    "    # Ajustar nomes de colunas e filtrar colunas desnecessárias\n",
    "    artilheiros_full = artilheiros_full[['player_name', 'goals', 'team_name']]\n",
    "    artilheiros_full.columns = ['Nome do Jogador', 'Gols', 'Nome do Time']\n",
    "    # Tratar tipos de variáveis, se necessário\n",
    "    # Exemplo: artilheiros_full['Gols'] = artilheiros_full['Gols'].astype(int)\n",
    "\n",
    "# Exemplo de uso de unstack ou stack (descomente a linha apropriada conforme necessário)\n",
    "# pais_full_unstacked = pais_full.set_index('Nome do País').stack().reset_index()\n",
    "# pais_full_stacked = pais_full.set_index('Nome do País').unstack().reset_index()\n",
    "\n",
    "# Exemplo de visualização dos dados\n",
    "print(\"Dados dos Países:\")\n",
    "print(pais_full)\n",
    "print(\"\\nDados das Ligas:\")\n",
    "print(ligas_full)\n",
    "print(\"\\nDados dos Artilheiros:\")\n",
    "print(artilheiros_full)\n"
   ]
  }
 ],
 "metadata": {
  "kernelspec": {
   "display_name": "base",
   "language": "python",
   "name": "python3"
  },
  "language_info": {
   "codemirror_mode": {
    "name": "ipython",
    "version": 3
   },
   "file_extension": ".py",
   "mimetype": "text/x-python",
   "name": "python",
   "nbconvert_exporter": "python",
   "pygments_lexer": "ipython3",
   "version": "3.8.8"
  }
 },
 "nbformat": 4,
 "nbformat_minor": 2
}
