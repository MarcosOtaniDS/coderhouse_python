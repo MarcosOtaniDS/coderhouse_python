{
 "cells": [
  {
   "cell_type": "code",
   "execution_count": 1,
   "metadata": {},
   "outputs": [],
   "source": [
    "import requests\n",
    "import pandas as pd"
   ]
  },
  {
   "cell_type": "code",
   "execution_count": 11,
   "metadata": {},
   "outputs": [
    {
     "name": "stdout",
     "output_type": "stream",
     "text": [
      "Pokémon: wigglytuff\n",
      "Tipo: normal\n",
      "Peso: 120 kg\n",
      "--------------------\n",
      "Pokémon: vileplume\n",
      "Tipo: grass\n",
      "Peso: 186 kg\n",
      "--------------------\n",
      "Pokémon: magmar\n",
      "Tipo: fire\n",
      "Peso: 445 kg\n",
      "--------------------\n"
     ]
    }
   ],
   "source": [
    "\n",
    "def pokedex(pokemon_id):\n",
    "    url = f'https://pokeapi.co/api/v2/pokemon/{pokemon_id}'\n",
    "    resposta = requests.get(url)\n",
    "\n",
    "    if resposta.status_code == 200:\n",
    "        dados_pokemon = resposta.json()\n",
    "        return dados_pokemon\n",
    "    else:\n",
    "        alerta(f' Pokémon não identificado {pokemon_id}')\n",
    "\n",
    "def alerta(mensagem):\n",
    "    print(f'ALERTA: {mensagem}')\n",
    "\n",
    "\n",
    "for pokemon_id in [40, 45, 126]:\n",
    "    informacoes_pokemon = pokedex(pokemon_id)\n",
    "\n",
    "    if informacoes_pokemon:\n",
    "        nome = informacoes_pokemon['name']\n",
    "        tipo = informacoes_pokemon['types'][0]['type']['name']\n",
    "        peso = informacoes_pokemon['weight']\n",
    "\n",
    "        print(f'Pokémon: {nome}\\nTipo: {tipo}\\nPeso: {peso} kg\\n{\"-\"*20}')"
   ]
  }
 ],
 "metadata": {
  "kernelspec": {
   "display_name": "Python 3",
   "language": "python",
   "name": "python3"
  },
  "language_info": {
   "codemirror_mode": {
    "name": "ipython",
    "version": 3
   },
   "file_extension": ".py",
   "mimetype": "text/x-python",
   "name": "python",
   "nbconvert_exporter": "python",
   "pygments_lexer": "ipython3",
   "version": "3.12.0"
  }
 },
 "nbformat": 4,
 "nbformat_minor": 2
}
