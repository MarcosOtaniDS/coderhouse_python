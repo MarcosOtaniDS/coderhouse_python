{
 "cells": [
  {
   "cell_type": "code",
   "execution_count": 3,
   "metadata": {},
   "outputs": [
    {
     "name": "stdout",
     "output_type": "stream",
     "text": [
      "O número 11 é ímpar.\n"
     ]
    }
   ],
   "source": [
    "'''Escreva um programa que receba um número inteiro e exiba se ele é par ou ímpar.'''\n",
    "\n",
    "numero = int(input(\"Digite um número inteiro: \"))\n",
    "\n",
    "if numero % 2 == 0:\n",
    "    print(f\"O número {numero} é par.\")\n",
    "else:\n",
    "    print(f\"O número {numero} é ímpar.\")\n"
   ]
  },
  {
   "cell_type": "code",
   "execution_count": 5,
   "metadata": {},
   "outputs": [
    {
     "name": "stdout",
     "output_type": "stream",
     "text": [
      "A palavra 'Algumas' tem 7 caracteres.\n",
      "A palavra 'pessoas' tem 7 caracteres.\n",
      "A palavra 'nunca' tem 5 caracteres.\n",
      "A palavra 'cometem' tem 7 caracteres.\n",
      "A palavra 'os' tem 2 caracteres.\n",
      "A palavra 'mesmos' tem 6 caracteres.\n",
      "A palavra 'erros' tem 5 caracteres.\n",
      "A palavra 'duas' tem 4 caracteres.\n",
      "A palavra 'vezes.' tem 6 caracteres.\n",
      "A palavra 'Descobrem' tem 9 caracteres.\n",
      "A palavra 'sempre' tem 6 caracteres.\n",
      "A palavra 'novos' tem 5 caracteres.\n",
      "A palavra 'erros' tem 5 caracteres.\n",
      "A palavra 'para' tem 4 caracteres.\n",
      "A palavra 'cometer.' tem 8 caracteres.\n"
     ]
    }
   ],
   "source": [
    "'''Escreva um programa em Python que solicita ao usuário uma frase e, em seguida, exibe cada palavra e seu número de caracteres.'''\n",
    "\n",
    "\n",
    "frase = input(\"Digite uma frase: \")\n",
    "\n",
    "\n",
    "palavras = frase.split()\n",
    "\n",
    "\n",
    "for palavra in palavras:\n",
    "    print(f\"A palavra '{palavra}' tem {len(palavra)} caracteres.\")\n",
    "\n"
   ]
  },
  {
   "cell_type": "code",
   "execution_count": null,
   "metadata": {},
   "outputs": [],
   "source": [
    "'''Crie um programa em Python que solicita ao usuário uma senha numérica de 4 dígitos. O programa deve repetir essa solicitação até que o usuário informe a senha correta (1234).'''\n",
    "\n"
   ]
  },
  {
   "cell_type": "code",
   "execution_count": null,
   "metadata": {},
   "outputs": [],
   "source": [
    "'''Escreva um programa que dado um valor n calcula o fatorial de n.'''\n",
    "\n"
   ]
  },
  {
   "cell_type": "code",
   "execution_count": null,
   "metadata": {},
   "outputs": [],
   "source": [
    "'''Crie um dicionário com os dados da tabela ao lado, crie um loop\n",
    "para exibir os valores.'''"
   ]
  }
 ],
 "metadata": {
  "kernelspec": {
   "display_name": "Python 3",
   "language": "python",
   "name": "python3"
  },
  "language_info": {
   "codemirror_mode": {
    "name": "ipython",
    "version": 3
   },
   "file_extension": ".py",
   "mimetype": "text/x-python",
   "name": "python",
   "nbconvert_exporter": "python",
   "pygments_lexer": "ipython3",
   "version": "3.12.0"
  }
 },
 "nbformat": 4,
 "nbformat_minor": 2
}
