{
 "cells": [
  {
   "cell_type": "code",
   "execution_count": 1,
   "metadata": {},
   "outputs": [],
   "source": [
    "import tkinter as tk\n",
    "from tkinter import messagebox\n",
    "from datetime import datetime\n",
    "\n",
    "def alerta(nivel, base, etapa):\n",
    "    if nivel == 1:\n",
    "        titulo = \"Alerta Baixo\"\n",
    "    elif nivel == 2:\n",
    "        titulo = \"Alerta Médio\"\n",
    "    elif nivel == 3:\n",
    "        titulo = \"Alerta Alto\"\n",
    "    else:\n",
    "        raise ValueError(\"Nível de alerta deve ser 1, 2 ou 3\")\n",
    "\n",
    "    mensagem = f\"Falha no carregamento da base {base} na etapa {etapa}\"\n",
    "    data_atual = datetime.now().strftime(\"%Y-%m-%d %H:%M:%S\")\n",
    "\n",
    "    root = tk.Tk()\n",
    "    root.withdraw()  # Ocultar a janela principal do Tkinter\n",
    "\n",
    "    messagebox.showinfo(titulo, mensagem + \"\\nData Atual: \" + data_atual)\n",
    "    root.destroy()\n",
    "\n",
    "# Exemplo de uso:\n",
    "alerta(2, \"MinhaBase\", 3)"
   ]
  }
 ],
 "metadata": {
  "kernelspec": {
   "display_name": "Python 3",
   "language": "python",
   "name": "python3"
  },
  "language_info": {
   "codemirror_mode": {
    "name": "ipython",
    "version": 3
   },
   "file_extension": ".py",
   "mimetype": "text/x-python",
   "name": "python",
   "nbconvert_exporter": "python",
   "pygments_lexer": "ipython3",
   "version": "3.10.8"
  }
 },
 "nbformat": 4,
 "nbformat_minor": 2
}
