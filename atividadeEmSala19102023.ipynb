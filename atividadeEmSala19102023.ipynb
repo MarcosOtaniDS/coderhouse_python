{
 "cells": [
  {
   "cell_type": "code",
   "execution_count": 3,
   "metadata": {},
   "outputs": [
    {
     "name": "stdout",
     "output_type": "stream",
     "text": [
      "Seu saldo é : 500.35\n"
     ]
    }
   ],
   "source": [
    "saldo = 950.60\n",
    "\n",
    "Saque = float(input(\"?\"))\n",
    "\n",
    "saldoAtual = saldo - Saque\n",
    "print(f\"Seu saldo é : {saldoAtual}\")\n",
    "\n"
   ]
  },
  {
   "cell_type": "code",
   "execution_count": 4,
   "metadata": {},
   "outputs": [
    {
     "data": {
      "text/plain": [
       "['abacaxi', 'banana', 'caju', 'caju', 'abacaxi']"
      ]
     },
     "execution_count": 4,
     "metadata": {},
     "output_type": "execute_result"
    }
   ],
   "source": [
    "frutas_set = [\"abacaxi\",\"banana\",\"caju\",\"caju\",\"abacaxi\"]\n",
    "frutas_set\n"
   ]
  },
  {
   "cell_type": "code",
   "execution_count": 4,
   "metadata": {},
   "outputs": [
    {
     "name": "stdout",
     "output_type": "stream",
     "text": [
      "O* ** s** * G*k*!\n"
     ]
    }
   ],
   "source": [
    "frase = \"Oi eu sou o Goku!\"\n",
    "novafrase = frase.replace(\"a\",\"*\").replace(\"e\",\"*\").replace(\"i\",\"*\").replace(\"o\",\"*\").replace(\"u\",\"*\")\n",
    "\n",
    "print (novafrase)"
   ]
  }
 ],
 "metadata": {
  "kernelspec": {
   "display_name": "Python 3",
   "language": "python",
   "name": "python3"
  },
  "language_info": {
   "codemirror_mode": {
    "name": "ipython",
    "version": 3
   },
   "file_extension": ".py",
   "mimetype": "text/x-python",
   "name": "python",
   "nbconvert_exporter": "python",
   "pygments_lexer": "ipython3",
   "version": "3.12.0"
  }
 },
 "nbformat": 4,
 "nbformat_minor": 2
}
